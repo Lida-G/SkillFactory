{
 "cells": [
  {
   "cell_type": "markdown",
   "metadata": {},
   "source": [
    "## Проект 0. GitHub. УГАДАЙ ЧИСЛО!"
   ]
  },
  {
   "cell_type": "markdown",
   "metadata": {},
   "source": [
    "Алгоритм поиска:\n",
    "1. Установливаем границу поиска (от minimum до maximum).\n",
    "2. Определяем предполагаемое число, как равное среднему значению из диапазона, и сравниваем с загаданым числом.\n",
    "3. Если загаданное число больше предполагаемого, то изминяем минимальную границу поиска, если меньше - максимальную.\n",
    "4. Повторяем действия, пока не определим загаданное число."
   ]
  },
  {
   "cell_type": "code",
   "execution_count": 2,
   "metadata": {},
   "outputs": [
    {
     "name": "stdout",
     "output_type": "stream",
     "text": [
      "Ваш алгоритм угадывает число в среднем за 5 попыток\n"
     ]
    }
   ],
   "source": [
    "import numpy as np\n",
    "\n",
    "def score_game(game_core):\n",
    "    '''Запускаем игру 1000 раз, чтобы узнать, как быстро игра угадывает число'''\n",
    "    count_ls = []\n",
    "    np.random.seed(1)  # фиксируем RANDOM SEED, чтобы ваш эксперимент был воспроизводим!\n",
    "    random_array = np.random.randint(1,101, size=(1000))\n",
    "    for number in random_array:\n",
    "        count_ls.append(game_core(number))\n",
    "    \n",
    "    score = int(np.mean(count_ls))\n",
    "    return(print(f\"Ваш алгоритм угадывает число в среднем за {score} попыток\"))\n",
    "\n",
    "def game_core(number):\n",
    "    '''Сначала устанавливаем счетчик попыток.\n",
    "       Устанавливаем минимальную и максимальную границу поиска. \n",
    "       Вычисляем среднее значение в установленном диапазоне.\n",
    "       Если искомое число больше, то изменяем minimum, если мельнше, то maximum.\n",
    "       Повторяем, пока не определим загаданное число.\n",
    "       Функция принимает загаданное число и возвращает число попыток.\n",
    "    '''\n",
    "    count = 1\n",
    "    minimum = 1      # минимальная граница поиска \n",
    "    maximum = 101    # максимальная ганица поиска\n",
    "    \n",
    "    predict = (minimum + maximum)//2   # определение среднего значения в диапазоне\n",
    "    \n",
    "    while number != predict:\n",
    "        count += 1\n",
    "        if number > predict:\n",
    "            minimum = predict\n",
    "        elif number < predict: \n",
    "            maximum = predict\n",
    "        \n",
    "        predict = (minimum + maximum)//2\n",
    "    \n",
    "    return(count) # выход из цикла, если угадали\n",
    "\n",
    "score_game(game_core) # Запуск функции, проверка"
   ]
  }
 ],
 "metadata": {
  "kernelspec": {
   "display_name": "Python 3",
   "language": "python",
   "name": "python3"
  },
  "language_info": {
   "codemirror_mode": {
    "name": "ipython",
    "version": 3
   },
   "file_extension": ".py",
   "mimetype": "text/x-python",
   "name": "python",
   "nbconvert_exporter": "python",
   "pygments_lexer": "ipython3",
   "version": "3.7.4"
  }
 },
 "nbformat": 4,
 "nbformat_minor": 2
}
